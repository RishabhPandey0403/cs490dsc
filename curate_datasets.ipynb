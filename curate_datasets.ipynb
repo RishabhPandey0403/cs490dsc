{
 "cells": [
  {
   "cell_type": "markdown",
   "metadata": {},
   "source": [
    "### Import Model Architectures\n",
    "Custom Torch Models need to be instantiated for evaluation. The model_architectures.py file contains the model architectures so we can abstract it and focus only on the evaluations."
   ]
  },
  {
   "cell_type": "code",
   "execution_count": 1,
   "metadata": {},
   "outputs": [
    {
     "name": "stdout",
     "output_type": "stream",
     "text": [
      "Using device: cuda\n",
      "Using device: cuda\n",
      "['BasicBlock', 'DataLoader', 'F', 'Load', 'ResNetCIFAR', 'ResNetMNIST', 'ResnetSVHN', 'TensorDataset', 'Tester', 'Visualizer', '__builtins__', '__cached__', '__doc__', '__file__', '__loader__', '__name__', '__package__', '__spec__', 'cifar_directory', 'conv3x3', 'current_directory', 'device', 'mnist_directory', 'nn', 'np', 'os', 'pd', 'pickle', 'plt', 'scipy', 'svhn_directory', 'torch']\n"
     ]
    }
   ],
   "source": [
    "from model_architectures import *\n",
    "import model_architectures\n",
    "from data_curator import *\n",
    "from attacks import * \n",
    "import csv\n",
    "# Print available classes to verify our model architectures were imported\n",
    "print(dir(model_architectures))\n",
    "\n",
    "flags = ['jsma','images']"
   ]
  },
  {
   "cell_type": "markdown",
   "metadata": {},
   "source": [
    "### Loading the Model Weights\n",
    "Using our model artifacts we load the weights back into the model so we have our pre-trained models to test our perturbations against."
   ]
  },
  {
   "cell_type": "code",
   "execution_count": 2,
   "metadata": {},
   "outputs": [
    {
     "data": {
      "text/plain": [
       "<All keys matched successfully>"
      ]
     },
     "execution_count": 2,
     "metadata": {},
     "output_type": "execute_result"
    }
   ],
   "source": [
    "mnist_resnet_model = ResNetMNIST(BasicBlock, [2, 2, 2, 2], num_classes=10, grayscale=True).to(device)\n",
    "cifar_resnet_model = ResNetCIFAR(BasicBlock, [2, 2, 2, 2], num_classes=10, grayscale=False).to(device)\n",
    "svhn_resnet_model = ResnetSVHN(BasicBlock, [2, 2, 2, 2], num_classes=10, grayscale=False).to(device)\n",
    "\n",
    "#add map_location=torch.device('cpu') if running locally and ur not sai lol\n",
    "device = 'cuda'\n",
    "# mnist_resnet_model.load_state_dict(torch.load(\"artifacts/resnet18_mnist_model.pth\", map_location=torch.device(device)))\n",
    "# cifar_resnet_model.load_state_dict(torch.load(\"artifacts/resnet18_cifar_model.pth\", map_location=torch.device(device)))\n",
    "# svhn_resnet_model.load_state_dict(torch.load(\"artifacts/resnet18_svhn_model.pth\",map_location=torch.device(device)))\n",
    "mnist_resnet_model.load_state_dict(torch.load(\"artifacts/resnet18_mnist_model.pth\"))\n",
    "cifar_resnet_model.load_state_dict(torch.load(\"artifacts/resnet18_cifar_model.pth\"))\n",
    "svhn_resnet_model.load_state_dict(torch.load(\"artifacts/resnet18_svhn_model.pth\"))"
   ]
  },
  {
   "cell_type": "code",
   "execution_count": 3,
   "metadata": {},
   "outputs": [
    {
     "data": {
      "text/plain": [
       "ResnetSVHN(\n",
       "  (conv1): Conv2d(3, 64, kernel_size=(7, 7), stride=(2, 2), padding=(3, 3), bias=False)\n",
       "  (bn1): BatchNorm2d(64, eps=1e-05, momentum=0.1, affine=True, track_running_stats=True)\n",
       "  (relu): ReLU(inplace=True)\n",
       "  (maxpool): MaxPool2d(kernel_size=3, stride=2, padding=1, dilation=1, ceil_mode=False)\n",
       "  (layer1): Sequential(\n",
       "    (0): BasicBlock(\n",
       "      (conv1): Conv2d(64, 64, kernel_size=(3, 3), stride=(1, 1), padding=(1, 1), bias=False)\n",
       "      (bn1): BatchNorm2d(64, eps=1e-05, momentum=0.1, affine=True, track_running_stats=True)\n",
       "      (relu): ReLU(inplace=True)\n",
       "      (conv2): Conv2d(64, 64, kernel_size=(3, 3), stride=(1, 1), padding=(1, 1), bias=False)\n",
       "      (bn2): BatchNorm2d(64, eps=1e-05, momentum=0.1, affine=True, track_running_stats=True)\n",
       "    )\n",
       "    (1): BasicBlock(\n",
       "      (conv1): Conv2d(64, 64, kernel_size=(3, 3), stride=(1, 1), padding=(1, 1), bias=False)\n",
       "      (bn1): BatchNorm2d(64, eps=1e-05, momentum=0.1, affine=True, track_running_stats=True)\n",
       "      (relu): ReLU(inplace=True)\n",
       "      (conv2): Conv2d(64, 64, kernel_size=(3, 3), stride=(1, 1), padding=(1, 1), bias=False)\n",
       "      (bn2): BatchNorm2d(64, eps=1e-05, momentum=0.1, affine=True, track_running_stats=True)\n",
       "    )\n",
       "  )\n",
       "  (layer2): Sequential(\n",
       "    (0): BasicBlock(\n",
       "      (conv1): Conv2d(64, 128, kernel_size=(3, 3), stride=(2, 2), padding=(1, 1), bias=False)\n",
       "      (bn1): BatchNorm2d(128, eps=1e-05, momentum=0.1, affine=True, track_running_stats=True)\n",
       "      (relu): ReLU(inplace=True)\n",
       "      (conv2): Conv2d(128, 128, kernel_size=(3, 3), stride=(1, 1), padding=(1, 1), bias=False)\n",
       "      (bn2): BatchNorm2d(128, eps=1e-05, momentum=0.1, affine=True, track_running_stats=True)\n",
       "      (downsample): Sequential(\n",
       "        (0): Conv2d(64, 128, kernel_size=(1, 1), stride=(2, 2), bias=False)\n",
       "        (1): BatchNorm2d(128, eps=1e-05, momentum=0.1, affine=True, track_running_stats=True)\n",
       "      )\n",
       "    )\n",
       "    (1): BasicBlock(\n",
       "      (conv1): Conv2d(128, 128, kernel_size=(3, 3), stride=(1, 1), padding=(1, 1), bias=False)\n",
       "      (bn1): BatchNorm2d(128, eps=1e-05, momentum=0.1, affine=True, track_running_stats=True)\n",
       "      (relu): ReLU(inplace=True)\n",
       "      (conv2): Conv2d(128, 128, kernel_size=(3, 3), stride=(1, 1), padding=(1, 1), bias=False)\n",
       "      (bn2): BatchNorm2d(128, eps=1e-05, momentum=0.1, affine=True, track_running_stats=True)\n",
       "    )\n",
       "  )\n",
       "  (layer3): Sequential(\n",
       "    (0): BasicBlock(\n",
       "      (conv1): Conv2d(128, 256, kernel_size=(3, 3), stride=(2, 2), padding=(1, 1), bias=False)\n",
       "      (bn1): BatchNorm2d(256, eps=1e-05, momentum=0.1, affine=True, track_running_stats=True)\n",
       "      (relu): ReLU(inplace=True)\n",
       "      (conv2): Conv2d(256, 256, kernel_size=(3, 3), stride=(1, 1), padding=(1, 1), bias=False)\n",
       "      (bn2): BatchNorm2d(256, eps=1e-05, momentum=0.1, affine=True, track_running_stats=True)\n",
       "      (downsample): Sequential(\n",
       "        (0): Conv2d(128, 256, kernel_size=(1, 1), stride=(2, 2), bias=False)\n",
       "        (1): BatchNorm2d(256, eps=1e-05, momentum=0.1, affine=True, track_running_stats=True)\n",
       "      )\n",
       "    )\n",
       "    (1): BasicBlock(\n",
       "      (conv1): Conv2d(256, 256, kernel_size=(3, 3), stride=(1, 1), padding=(1, 1), bias=False)\n",
       "      (bn1): BatchNorm2d(256, eps=1e-05, momentum=0.1, affine=True, track_running_stats=True)\n",
       "      (relu): ReLU(inplace=True)\n",
       "      (conv2): Conv2d(256, 256, kernel_size=(3, 3), stride=(1, 1), padding=(1, 1), bias=False)\n",
       "      (bn2): BatchNorm2d(256, eps=1e-05, momentum=0.1, affine=True, track_running_stats=True)\n",
       "    )\n",
       "  )\n",
       "  (layer4): Sequential(\n",
       "    (0): BasicBlock(\n",
       "      (conv1): Conv2d(256, 512, kernel_size=(3, 3), stride=(2, 2), padding=(1, 1), bias=False)\n",
       "      (bn1): BatchNorm2d(512, eps=1e-05, momentum=0.1, affine=True, track_running_stats=True)\n",
       "      (relu): ReLU(inplace=True)\n",
       "      (conv2): Conv2d(512, 512, kernel_size=(3, 3), stride=(1, 1), padding=(1, 1), bias=False)\n",
       "      (bn2): BatchNorm2d(512, eps=1e-05, momentum=0.1, affine=True, track_running_stats=True)\n",
       "      (downsample): Sequential(\n",
       "        (0): Conv2d(256, 512, kernel_size=(1, 1), stride=(2, 2), bias=False)\n",
       "        (1): BatchNorm2d(512, eps=1e-05, momentum=0.1, affine=True, track_running_stats=True)\n",
       "      )\n",
       "    )\n",
       "    (1): BasicBlock(\n",
       "      (conv1): Conv2d(512, 512, kernel_size=(3, 3), stride=(1, 1), padding=(1, 1), bias=False)\n",
       "      (bn1): BatchNorm2d(512, eps=1e-05, momentum=0.1, affine=True, track_running_stats=True)\n",
       "      (relu): ReLU(inplace=True)\n",
       "      (conv2): Conv2d(512, 512, kernel_size=(3, 3), stride=(1, 1), padding=(1, 1), bias=False)\n",
       "      (bn2): BatchNorm2d(512, eps=1e-05, momentum=0.1, affine=True, track_running_stats=True)\n",
       "    )\n",
       "  )\n",
       "  (avgpool): AvgPool2d(kernel_size=7, stride=1, padding=0)\n",
       "  (fc): Linear(in_features=512, out_features=10, bias=True)\n",
       ")"
      ]
     },
     "execution_count": 3,
     "metadata": {},
     "output_type": "execute_result"
    }
   ],
   "source": [
    "mnist_resnet_model.eval()\n",
    "cifar_resnet_model.eval()\n",
    "svhn_resnet_model.eval()"
   ]
  },
  {
   "cell_type": "code",
   "execution_count": 4,
   "metadata": {},
   "outputs": [],
   "source": [
    "# Loading Data\n",
    "loader = Load()\n",
    "mnist_train_images, mnist_train_labels = loader.load_mnist_train_images()\n",
    "cifar10_train_images, cifar10_train_labels = loader.load_cifar10_train_images()\n",
    "svhn_train_images, svhn_train_labels = loader.load_svhn_train_images()"
   ]
  },
  {
   "cell_type": "code",
   "execution_count": 5,
   "metadata": {},
   "outputs": [],
   "source": [
    "# train_loader_mnist = loader.convert_mnist_numpy_to_tensor(mnist_train_images, mnist_train_labels)\n",
    "# train_loader_cifar10 = loader.convert_cifar10_numpy_to_tensor(cifar10_train_images, cifar10_train_labels)\n",
    "# train_loader_svhn = loader.convert_svhn_numpy_to_tensor(svhn_train_images, svhn_train_labels)\n",
    "\n",
    "batch_size = 10 * 256\n",
    "\n",
    "train_loader_mnist = loader.convert_mnist_numpy_to_tensor(mnist_train_images[:batch_size], mnist_train_labels[:batch_size])\n",
    "train_loader_cifar10 = loader.convert_cifar10_numpy_to_tensor(cifar10_train_images[:batch_size], cifar10_train_labels[:batch_size])\n",
    "train_loader_svhn = loader.convert_svhn_numpy_to_tensor(svhn_train_images[:batch_size], svhn_train_labels[:batch_size])\n",
    "\n"
   ]
  },
  {
   "cell_type": "markdown",
   "metadata": {},
   "source": [
    "### Curating Data\n",
    "We repurpose our test functions for each attack to only output adversarial examples and the total accuracy from the attack without any hanging print statements. We then run them on the entire dataset, as opposed to a sample of 256, and then store these as CSV files. "
   ]
  },
  {
   "cell_type": "code",
   "execution_count": 6,
   "metadata": {},
   "outputs": [],
   "source": [
    "curator = Curator()"
   ]
  },
  {
   "cell_type": "code",
   "execution_count": 7,
   "metadata": {},
   "outputs": [],
   "source": [
    "if 'fgsm' in flags:\n",
    "    fgsm_mnist_accuracy, fgsm_mnist_examples = curator.curate_fgsm(mnist_resnet_model, train_loader_mnist, 0.05)\n",
    "    fgsm_cifar10_accuracy, fgsm_cifar10_examples = curator.curate_fgsm(cifar_resnet_model, train_loader_cifar10, 0.025)\n",
    "    fgsm_svhn_accuracy, fgsm_svhn_examples = curator.curate_fgsm(svhn_resnet_model, train_loader_svhn, 0.025)"
   ]
  },
  {
   "cell_type": "code",
   "execution_count": 8,
   "metadata": {},
   "outputs": [],
   "source": [
    "def reshape_image(flat_image, color = False):\n",
    "    if color:\n",
    "        # print(flat_image.shape)\n",
    "        image_size = 32\n",
    "\n",
    "        # Split the array into three parts\n",
    "        split_size = flat_image.shape[0] // 3\n",
    "        red_channel = flat_image[:split_size]\n",
    "        green_channel = flat_image[split_size:2*split_size]\n",
    "        blue_channel = flat_image[2*split_size:]\n",
    "        # print(f\"Red Shape: {red_channel.shape}\")\n",
    "        # print(f\"Green Shape: {green_channel.shape}\")\n",
    "        # print(f\"Blue Shape: {blue_channel.shape}\")\n",
    "\n",
    "        # Stack the three parts horizontally\n",
    "        stacked_channels = np.dstack([red_channel, green_channel, blue_channel])\n",
    "        # print(stacked_channels.shape)\n",
    "\n",
    "        # Reshape the stacked array into a 3D array\n",
    "        flat_image = stacked_channels.reshape( image_size, image_size, 3)\n",
    "\n",
    "        return flat_image\n",
    "    return np.array(flat_image).reshape(28, 28)"
   ]
  },
  {
   "cell_type": "code",
   "execution_count": 9,
   "metadata": {},
   "outputs": [
    {
     "name": "stdout",
     "output_type": "stream",
     "text": [
      "(7946, 785)\n",
      "(47416, 3073)\n",
      "(32, 32, 3)\n",
      "(54354, 3073)\n",
      "(32, 32, 3)\n"
     ]
    },
    {
     "data": {
      "image/png": "[encoded data removed]",
      "text/plain": [
       "<Figure size 640x480 with 1 Axes>"
      ]
     },
     "metadata": {},
     "output_type": "display_data"
    }
   ],
   "source": [
    "\n",
    "if 'fgsm' in flags:\n",
    "    print(fgsm_mnist_accuracy)\n",
    "    print(len(fgsm_mnist_examples))\n",
    "    print(len(fgsm_mnist_examples[0]))\n",
    "    print(fgsm_mnist_examples[0][2].shape)\n",
    "\n",
    "    curator.store_data('augmented_data/fgsm_mnist_augmented_data.csv', fgsm_mnist_examples)\n",
    "\n",
    "    print(fgsm_cifar10_accuracy)\n",
    "    print(len(fgsm_cifar10_examples))\n",
    "    print(len(fgsm_cifar10_examples[0]))\n",
    "    print(fgsm_cifar10_examples[0][2].shape)\n",
    "\n",
    "    curator.store_data('augmented_data/fgsm_cifar10_augmented_data.csv', fgsm_cifar10_examples, color = True)\n",
    "\n",
    "    print(fgsm_svhn_accuracy)\n",
    "    print(len(fgsm_svhn_examples))\n",
    "    print(len(fgsm_svhn_examples[0]))\n",
    "    print(fgsm_svhn_examples[0][2].shape)\n",
    "\n",
    "    curator.store_data('augmented_data/fgsm_svhn_augmented_data.csv', fgsm_svhn_examples, color = True)\n",
    "\n",
    "if 'images' in flags:\n",
    "    # Load the images from the csv, convert them to h5, and then use the h5 file. \n",
    "    if 'fgsm' in flags:\n",
    "        images = pd.read_csv(\"augmented_data/fgsm_mnist_augmented_data.csv\")\n",
    "        images.to_hdf(\"augmented_data/fgsm_mnist_augmented_data.h5\", key='data', mode='w')\n",
    "    images = pd.read_hdf('augmented_data/fgsm_mnist_augmented_data.h5')\n",
    "    print(images.shape)\n",
    "    labels = images.iloc[:, 0]  \n",
    "    images = images.iloc[:, 1:]  \n",
    "\n",
    "    # Selecting the first image and its label\n",
    "    first_image = images.iloc[0]\n",
    "    first_label = int(labels.iloc[0])\n",
    "\n",
    "    # Reshape the image\n",
    "    reshaped_image1 = reshape_image(first_image)\n",
    "\n",
    "    if 'fgsm' in flags:\n",
    "        images = pd.read_csv(\"augmented_data/fgsm_cifar10_augmented_data.csv\")\n",
    "        images.to_hdf(\"augmented_data/fgsm_cifar10_augmented_data.h5\", key='data', mode='w')\n",
    "    images = pd.read_hdf('augmented_data/fgsm_cifar10_augmented_data.h5')\n",
    "    print(images.shape)\n",
    "    labels = images.iloc[:, 0] \n",
    "    images = images.iloc[:, 1:]\n",
    "\n",
    "    # Selecting the first image and its label\n",
    "    first_image = images.iloc[0]\n",
    "    first_label = int(labels.iloc[0])\n",
    "\n",
    "    # Reshape the image\n",
    "    reshaped_image2 = reshape_image(np.array(first_image), color = True)\n",
    "    print(reshaped_image2.shape)\n",
    "\n",
    "\n",
    "\n",
    "    if 'fgsm' in flags:\n",
    "        images = pd.read_csv(\"augmented_data/fgsm_svhn_augmented_data.csv\")\n",
    "        images.to_hdf(\"augmented_data/fgsm_svhn_augmented_data.h5\", key='data', mode='w')\n",
    "    images = pd.read_hdf('augmented_data/fgsm_svhn_augmented_data.h5')\n",
    "    print(images.shape)\n",
    "    labels = images.iloc[:, 0] \n",
    "    images = images.iloc[:, 1:]\n",
    "\n",
    "    # Selecting the first image and its label\n",
    "    first_image = images.iloc[0]\n",
    "    first_label = int(labels.iloc[0])\n",
    "\n",
    "    # Reshape the image\n",
    "    reshaped_image3= reshape_image(np.array(first_image), color = True)\n",
    "    print(reshaped_image3.shape)\n",
    "    # Display the image with its label\n",
    "    plt.imshow(reshaped_image3)\n",
    "    plt.title(f\"Label: {first_label}\")\n",
    "    plt.axis('off')\n",
    "    plt.show()"
   ]
  },
  {
   "cell_type": "code",
   "execution_count": 10,
   "metadata": {},
   "outputs": [],
   "source": [
    "if 'pgd' in flags:\n",
    "    pgd_mnist_accuracy, pgd_mnist_examples = curator.curate_pgd(mnist_resnet_model, train_loader_mnist, .25, 0.1 )\n",
    "    pgd_cifar10_accuracy, pgd_cifar10_examples = curator.curate_pgd(cifar_resnet_model, train_loader_cifar10, .25, 0.00625)\n",
    "    pgd_svhn_accuracy, pgd_svhn_examples = curator.curate_pgd(svhn_resnet_model, train_loader_svhn, .25, 0.00625)"
   ]
  },
  {
   "cell_type": "code",
   "execution_count": 11,
   "metadata": {},
   "outputs": [
    {
     "name": "stdout",
     "output_type": "stream",
     "text": [
      "(2386, 785)\n",
      "(2356, 3073)\n",
      "(32, 32, 3)\n",
      "(2056, 3073)\n",
      "(32, 32, 3)\n"
     ]
    },
    {
     "data": {
      "image/png": "[encoded data removed]",
      "text/plain": [
       "<Figure size 640x480 with 1 Axes>"
      ]
     },
     "metadata": {},
     "output_type": "display_data"
    }
   ],
   "source": [
    "\n",
    "if 'pgd' in flags:\n",
    "    print(pgd_mnist_accuracy)\n",
    "    print(len(pgd_mnist_examples))\n",
    "    print(len(pgd_mnist_examples[0]))\n",
    "    print(pgd_mnist_examples[0][2].shape)\n",
    "\n",
    "    curator.store_data('augmented_data/pgd_mnist_augmented_data.csv', pgd_mnist_examples)\n",
    "\n",
    "    print(pgd_cifar10_accuracy)\n",
    "    print(len(pgd_cifar10_examples))\n",
    "    print(len(pgd_cifar10_examples[0]))\n",
    "    print(pgd_cifar10_examples[0][2].shape)\n",
    "\n",
    "    curator.store_data('augmented_data/pgd_cifar10_augmented_data.csv', pgd_cifar10_examples, color = True)\n",
    "\n",
    "    print(pgd_svhn_accuracy)\n",
    "    print(len(pgd_svhn_examples))\n",
    "    print(len(pgd_svhn_examples[0]))\n",
    "    print(pgd_svhn_examples[0][2].shape)\n",
    "\n",
    "    curator.store_data('augmented_data/pgd_svhn_augmented_data.csv', pgd_svhn_examples, color = True)\n",
    "\n",
    "if 'images' in flags:\n",
    "    # Load the images from the csv, convert them to h5, and then use the h5 file. \n",
    "    if 'pgd' in flags:\n",
    "        images = pd.read_csv(\"augmented_data/pgd_mnist_augmented_data.csv\")\n",
    "        images.to_hdf(\"augmented_data/pgd_mnist_augmented_data.h5\", key='data', mode='w')\n",
    "    images = pd.read_hdf('augmented_data/pgd_mnist_augmented_data.h5')\n",
    "    print(images.shape)\n",
    "    labels = images.iloc[:, 0]  \n",
    "    images = images.iloc[:, 1:]  \n",
    "\n",
    "    # Selecting the first image and its label\n",
    "    first_image = images.iloc[0]\n",
    "    first_label = int(labels.iloc[0])\n",
    "\n",
    "    # Reshape the image\n",
    "    reshaped_image1 = reshape_image(first_image)\n",
    "\n",
    "    if 'pgd' in flags:\n",
    "        images = pd.read_csv(\"augmented_data/pgd_cifar10_augmented_data.csv\")\n",
    "        images.to_hdf(\"augmented_data/pgd_cifar10_augmented_data.h5\", key='data', mode='w')\n",
    "    images = pd.read_hdf('augmented_data/pgd_cifar10_augmented_data.h5')\n",
    "    print(images.shape)\n",
    "    labels = images.iloc[:, 0] \n",
    "    images = images.iloc[:, 1:]\n",
    "\n",
    "    # Selecting the first image and its label\n",
    "    first_image = images.iloc[0]\n",
    "    first_label = int(labels.iloc[0])\n",
    "\n",
    "    # Reshape the image\n",
    "    reshaped_image2 = reshape_image(np.array(first_image), color = True)\n",
    "    print(reshaped_image2.shape)\n",
    "\n",
    "\n",
    "\n",
    "    if 'pgd' in flags:\n",
    "        images = pd.read_csv(\"augmented_data/pgd_svhn_augmented_data.csv\")\n",
    "        images.to_hdf(\"augmented_data/pgd_svhn_augmented_data.h5\", key='data', mode='w')\n",
    "    images = pd.read_hdf('augmented_data/pgd_svhn_augmented_data.h5')\n",
    "    print(images.shape)\n",
    "    labels = images.iloc[:, 0] \n",
    "    images = images.iloc[:, 1:]\n",
    "\n",
    "    # Selecting the first image and its label\n",
    "    first_image = images.iloc[0]\n",
    "    first_label = int(labels.iloc[0])\n",
    "\n",
    "    # Reshape the image\n",
    "    reshaped_image3= reshape_image(np.array(first_image), color = True)\n",
    "    print(reshaped_image3.shape)\n",
    "    # Display the image with its label\n",
    "    plt.imshow(reshaped_image3)\n",
    "    plt.title(f\"Label: {first_label}\")\n",
    "    plt.axis('off')\n",
    "    plt.show()"
   ]
  },
  {
   "cell_type": "code",
   "execution_count": 12,
   "metadata": {},
   "outputs": [],
   "source": [
    "if 'deepfool' in flags:\n",
    "    deepfool_mnist_accuracy, deepfool_mnist_examples = curator.curate_deepfool(mnist_resnet_model, train_loader_mnist)\n",
    "    deepfool_cifar10_accuracy, deepfool_cifar10_examples = curator.curate_deepfool(cifar_resnet_model, train_loader_cifar10)\n",
    "    deepfool_svhn_accuracy, deepfool_svhn_examples = curator.curate_deepfool(svhn_resnet_model, train_loader_svhn)"
   ]
  },
  {
   "cell_type": "code",
   "execution_count": 13,
   "metadata": {},
   "outputs": [
    {
     "name": "stdout",
     "output_type": "stream",
     "text": [
      "(2560, 785)"
     ]
    },
    {
     "name": "stdout",
     "output_type": "stream",
     "text": [
      "\n",
      "(2560, 3073)\n",
      "(32, 32, 3)\n",
      "(2560, 3073)\n",
      "(32, 32, 3)\n"
     ]
    },
    {
     "data": {
      "image/png": "[encoded data removed]",
      "text/plain": [
       "<Figure size 640x480 with 1 Axes>"
      ]
     },
     "metadata": {},
     "output_type": "display_data"
    }
   ],
   "source": [
    "\n",
    "if 'deepfool' in flags:\n",
    "    print(deepfool_mnist_accuracy)\n",
    "    print(len(deepfool_mnist_examples))\n",
    "    print(len(deepfool_mnist_examples[0]))\n",
    "    print(deepfool_mnist_examples[0][2].shape)\n",
    "\n",
    "    curator.store_data('augmented_data/deepfool_mnist_augmented_data.csv', deepfool_mnist_examples)\n",
    "\n",
    "    print(deepfool_cifar10_accuracy)\n",
    "    print(len(deepfool_cifar10_examples))\n",
    "    print(len(deepfool_cifar10_examples[0]))\n",
    "    print(deepfool_cifar10_examples[0][2].shape)\n",
    "\n",
    "    curator.store_data('augmented_data/deepfool_cifar10_augmented_data.csv', deepfool_cifar10_examples, color = True)\n",
    "\n",
    "    print(deepfool_svhn_accuracy)\n",
    "    print(len(deepfool_svhn_examples))\n",
    "    print(len(deepfool_svhn_examples[0]))\n",
    "    print(deepfool_svhn_examples[0][2].shape)\n",
    "\n",
    "    curator.store_data('augmented_data/deepfool_svhn_augmented_data.csv', deepfool_svhn_examples, color = True)\n",
    "\n",
    "if 'images' in flags:\n",
    "    # Load the images from the csv, convert them to h5, and then use the h5 file. \n",
    "    if 'deepfool' in flags:\n",
    "        images = pd.read_csv(\"augmented_data/deepfool_mnist_augmented_data.csv\")\n",
    "        images.to_hdf(\"augmented_data/deepfool_mnist_augmented_data.h5\", key='data', mode='w')\n",
    "    images = pd.read_hdf('augmented_data/deepfool_mnist_augmented_data.h5')\n",
    "    print(images.shape)\n",
    "    labels = images.iloc[:, 0]  \n",
    "    images = images.iloc[:, 1:]  \n",
    "\n",
    "    # Selecting the first image and its label\n",
    "    first_image = images.iloc[0]\n",
    "    first_label = int(labels.iloc[0])\n",
    "\n",
    "    # Reshape the image\n",
    "    reshaped_image1 = reshape_image(first_image)\n",
    "\n",
    "    if 'deepfool' in flags:\n",
    "        images = pd.read_csv(\"augmented_data/deepfool_cifar10_augmented_data.csv\")\n",
    "        images.to_hdf(\"augmented_data/deepfool_cifar10_augmented_data.h5\", key='data', mode='w')\n",
    "    images = pd.read_hdf('augmented_data/deepfool_cifar10_augmented_data.h5')\n",
    "    print(images.shape)\n",
    "    labels = images.iloc[:, 0] \n",
    "    images = images.iloc[:, 1:]\n",
    "\n",
    "    # Selecting the first image and its label\n",
    "    first_image = images.iloc[0]\n",
    "    first_label = int(labels.iloc[0])\n",
    "\n",
    "    # Reshape the image\n",
    "    reshaped_image2 = reshape_image(np.array(first_image), color = True)\n",
    "    print(reshaped_image2.shape)\n",
    "\n",
    "\n",
    "\n",
    "    if 'deepfool' in flags:\n",
    "        images = pd.read_csv(\"augmented_data/deepfool_svhn_augmented_data.csv\")\n",
    "        images.to_hdf(\"augmented_data/deepfool_svhn_augmented_data.h5\", key='data', mode='w')\n",
    "    images = pd.read_hdf('augmented_data/deepfool_svhn_augmented_data.h5')\n",
    "    print(images.shape)\n",
    "    labels = images.iloc[:, 0] \n",
    "    images = images.iloc[:, 1:]\n",
    "\n",
    "    # Selecting the first image and its label\n",
    "    first_image = images.iloc[0]\n",
    "    first_label = int(labels.iloc[0])\n",
    "\n",
    "    # Reshape the image\n",
    "    reshaped_image3= reshape_image(np.array(first_image), color = True)\n",
    "    print(reshaped_image3.shape)\n",
    "    # Display the image with its label\n",
    "    plt.imshow(reshaped_image3)\n",
    "    plt.title(f\"Label: {first_label}\")\n",
    "    plt.axis('off')\n",
    "    plt.show()"
   ]
  },
  {
   "cell_type": "code",
   "execution_count": 14,
   "metadata": {},
   "outputs": [
    {
     "name": "stderr",
     "output_type": "stream",
     "text": [
      "C:\\Users\\Sai\\AppData\\Local\\Packages\\PythonSoftwareFoundation.Python.3.11_qbz5n2kfra8p0\\LocalCache\\local-packages\\Python311\\site-packages\\tqdm\\auto.py:21: TqdmWarning: IProgress not found. Please update jupyter and ipywidgets. See https://ipywidgets.readthedocs.io/en/stable/user_install.html\n",
      "  from .autonotebook import tqdm as notebook_tqdm\n"
     ]
    },
    {
     "name": "stdout",
     "output_type": "stream",
     "text": [
      "Batch 1 Completed. # of Adversarial Examples: 255\n",
      "Batch 2 Completed. # of Adversarial Examples: 511\n",
      "Batch 3 Completed. # of Adversarial Examples: 766\n",
      "Batch 4 Completed. # of Adversarial Examples: 1022\n",
      "Batch 5 Completed. # of Adversarial Examples: 1278\n",
      "Batch 6 Completed. # of Adversarial Examples: 1534\n",
      "Batch 7 Completed. # of Adversarial Examples: 1790\n",
      "Batch 8 Completed. # of Adversarial Examples: 2046\n",
      "Batch 9 Completed. # of Adversarial Examples: 2301\n",
      "Batch 10 Completed. # of Adversarial Examples: 2555\n"
     ]
    },
    {
     "ename": "ValueError",
     "evalue": "too many values to unpack (expected 2)",
     "output_type": "error",
     "traceback": [
      "\u001b[1;31m---------------------------------------------------------------------------\u001b[0m",
      "\u001b[1;31mValueError\u001b[0m                                Traceback (most recent call last)",
      "Cell \u001b[1;32mIn[14], line 2\u001b[0m\n\u001b[0;32m      1\u001b[0m \u001b[38;5;28;01mif\u001b[39;00m \u001b[38;5;124m'\u001b[39m\u001b[38;5;124mjsma\u001b[39m\u001b[38;5;124m'\u001b[39m \u001b[38;5;129;01min\u001b[39;00m flags:\n\u001b[1;32m----> 2\u001b[0m     jsma_mnist_accuracy, jsma_mnist_examples \u001b[38;5;241m=\u001b[39m curator\u001b[38;5;241m.\u001b[39mcurate_jsma(mnist_resnet_model, train_loader_mnist, theta \u001b[38;5;241m=\u001b[39m \u001b[38;5;241m0.025\u001b[39m)\n\u001b[0;32m      3\u001b[0m     jsma_cifar10_accuracy, jsma_cifar10_examples \u001b[38;5;241m=\u001b[39m curator\u001b[38;5;241m.\u001b[39mcurate_jsma(cifar_resnet_model, train_loader_cifar10, theta \u001b[38;5;241m=\u001b[39m \u001b[38;5;241m0.000625\u001b[39m)\n\u001b[0;32m      4\u001b[0m     jsma_svhn_accuracy, jsma_svhn_examples \u001b[38;5;241m=\u001b[39m curator\u001b[38;5;241m.\u001b[39mcurate_jsma(svhn_resnet_model, train_loader_svhn, theta \u001b[38;5;241m=\u001b[39m \u001b[38;5;241m0.0025\u001b[39m)\n",
      "\u001b[1;31mValueError\u001b[0m: too many values to unpack (expected 2)"
     ]
    }
   ],
   "source": [
    "if 'jsma' in flags:\n",
    "    jsma_mnist_accuracy, jsma_mnist_examples = curator.curate_jsma(mnist_resnet_model, train_loader_mnist, theta = 0.025)\n",
    "    jsma_cifar10_accuracy, jsma_cifar10_examples = curator.curate_jsma(cifar_resnet_model, train_loader_cifar10, theta = 0.000625)\n",
    "    jsma_svhn_accuracy, jsma_svhn_examples = curator.curate_jsma(svhn_resnet_model, train_loader_svhn, theta = 0.0025)"
   ]
  },
  {
   "cell_type": "code",
   "execution_count": null,
   "metadata": {},
   "outputs": [
    {
     "name": "stdout",
     "output_type": "stream",
     "text": [
      "0.0046875\n",
      "2548\n",
      "3\n",
      "(28, 28)\n",
      "0.008203125\n",
      "2539\n",
      "3\n",
      "(3, 32, 32)\n",
      "0.008203125\n",
      "2539\n",
      "3\n",
      "(3, 32, 32)\n",
      "(2548, 785)\n"
     ]
    },
    {
     "ename": "ValueError",
     "evalue": "invalid literal for int() with base 10: \"tensor([5], device='cuda:0')\"",
     "output_type": "error",
     "traceback": [
      "\u001b[1;31m---------------------------------------------------------------------------\u001b[0m",
      "\u001b[1;31mValueError\u001b[0m                                Traceback (most recent call last)",
      "Cell \u001b[1;32mIn[15], line 35\u001b[0m\n\u001b[0;32m     33\u001b[0m \u001b[38;5;66;03m# Selecting the first image and its label\u001b[39;00m\n\u001b[0;32m     34\u001b[0m first_image \u001b[38;5;241m=\u001b[39m images\u001b[38;5;241m.\u001b[39miloc[\u001b[38;5;241m0\u001b[39m]\n\u001b[1;32m---> 35\u001b[0m first_label \u001b[38;5;241m=\u001b[39m \u001b[38;5;28;43mint\u001b[39;49m\u001b[43m(\u001b[49m\u001b[43mlabels\u001b[49m\u001b[38;5;241;43m.\u001b[39;49m\u001b[43miloc\u001b[49m\u001b[43m[\u001b[49m\u001b[38;5;241;43m0\u001b[39;49m\u001b[43m]\u001b[49m\u001b[43m)\u001b[49m\n\u001b[0;32m     37\u001b[0m \u001b[38;5;66;03m# Reshape the image\u001b[39;00m\n\u001b[0;32m     38\u001b[0m reshaped_image1 \u001b[38;5;241m=\u001b[39m reshape_image(first_image)\n",
      "\u001b[1;31mValueError\u001b[0m: invalid literal for int() with base 10: \"tensor([5], device='cuda:0')\""
     ]
    }
   ],
   "source": [
    "\n",
    "if 'jsma' in flags:\n",
    "    print(jsma_mnist_accuracy)\n",
    "    print(len(jsma_mnist_examples))\n",
    "    print(len(jsma_mnist_examples[0]))\n",
    "    print(jsma_mnist_examples[0][2].shape)\n",
    "\n",
    "    curator.store_data('augmented_data/jsma_mnist_augmented_data.csv', jsma_mnist_examples)\n",
    "\n",
    "    print(jsma_cifar10_accuracy)\n",
    "    print(len(jsma_cifar10_examples))\n",
    "    print(len(jsma_cifar10_examples[0]))\n",
    "    print(jsma_cifar10_examples[0][2].shape)\n",
    "\n",
    "    curator.store_data('augmented_data/jsma_cifar10_augmented_data.csv', jsma_cifar10_examples, color = True)\n",
    "\n",
    "    print(jsma_svhn_accuracy)\n",
    "    print(len(jsma_svhn_examples))\n",
    "    print(len(jsma_svhn_examples[0]))\n",
    "    print(jsma_svhn_examples[0][2].shape)\n",
    "\n",
    "    curator.store_data('augmented_data/jsma_svhn_augmented_data.csv', jsma_svhn_examples, color = True)\n",
    "\n",
    "if 'images' in flags:\n",
    "    # Load the images from the csv, convert them to h5, and then use the h5 file. \n",
    "    if 'jsma' in flags:\n",
    "        images = pd.read_csv(\"augmented_data/jsma_mnist_augmented_data.csv\")\n",
    "        images.to_hdf(\"augmented_data/jsma_mnist_augmented_data.h5\", key='data', mode='w')\n",
    "    images = pd.read_hdf('augmented_data/jsma_mnist_augmented_data.h5')\n",
    "    print(images.shape)\n",
    "    labels = images.iloc[:, 0]  \n",
    "    images = images.iloc[:, 1:]  \n",
    "\n",
    "    # Selecting the first image and its label\n",
    "    first_image = images.iloc[0]\n",
    "    first_label = int(labels.iloc[0])\n",
    "\n",
    "    # Reshape the image\n",
    "    reshaped_image1 = reshape_image(first_image)\n",
    "\n",
    "    if 'jsma' in flags:\n",
    "        images = pd.read_csv(\"augmented_data/jsma_cifar10_augmented_data.csv\")\n",
    "        images.to_hdf(\"augmented_data/jsma_cifar10_augmented_data.h5\", key='data', mode='w')\n",
    "    images = pd.read_hdf('augmented_data/jsma_cifar10_augmented_data.h5')\n",
    "    print(images.shape)\n",
    "    labels = images.iloc[:, 0] \n",
    "    images = images.iloc[:, 1:]\n",
    "\n",
    "    # Selecting the first image and its label\n",
    "    first_image = images.iloc[0]\n",
    "    first_label = int(labels.iloc[0])\n",
    "\n",
    "    # Reshape the image\n",
    "    reshaped_image2 = reshape_image(np.array(first_image), color = True)\n",
    "    print(reshaped_image2.shape)\n",
    "\n",
    "\n",
    "\n",
    "    if 'jsma' in flags:\n",
    "        images = pd.read_csv(\"augmented_data/jsma_svhn_augmented_data.csv\")\n",
    "        images.to_hdf(\"augmented_data/jsma_svhn_augmented_data.h5\", key='data', mode='w')\n",
    "    images = pd.read_hdf('augmented_data/jsma_svhn_augmented_data.h5')\n",
    "    print(images.shape)\n",
    "    labels = images.iloc[:, 0] \n",
    "    images = images.iloc[:, 1:]\n",
    "\n",
    "    # Selecting the first image and its label\n",
    "    first_image = images.iloc[0]\n",
    "    first_label = int(labels.iloc[0])\n",
    "\n",
    "    # Reshape the image\n",
    "    reshaped_image3= reshape_image(np.array(first_image), color = True)\n",
    "    print(reshaped_image3.shape)\n",
    "    # Display the image with its label\n",
    "    plt.imshow(reshaped_image3)\n",
    "    plt.title(f\"Label: {first_label}\")\n",
    "    plt.axis('off')\n",
    "    plt.show()"
   ]
  }
 ],
 "metadata": {
  "kernelspec": {
   "display_name": "Python 3",
   "language": "python",
   "name": "python3"
  },
  "language_info": {
   "codemirror_mode": {
    "name": "ipython",
    "version": 3
   },
   "file_extension": ".py",
   "mimetype": "text/x-python",
   "name": "python",
   "nbconvert_exporter": "python",
   "pygments_lexer": "ipython3",
   "version": "3.11.9"
  }
 },
 "nbformat": 4,
 "nbformat_minor": 2
}
